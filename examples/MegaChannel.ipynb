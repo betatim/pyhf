{
 "cells": [
  {
   "cell_type": "code",
   "execution_count": 5,
   "metadata": {},
   "outputs": [],
   "source": [
    "import pyhf\n",
    "import json\n",
    "import numpy as np\n",
    "import pyhf.utils\n",
    "import cProfile"
   ]
  },
  {
   "cell_type": "code",
   "execution_count": 6,
   "metadata": {},
   "outputs": [],
   "source": [
    "x = json.load(open('../newmbj.json'))\n",
    "pdf = pyhf.Model({'channels': x['channels']}, poiname = x['toplvl']['measurements'][0]['config']['poi'], qualify_names = True)"
   ]
  },
  {
   "cell_type": "code",
   "execution_count": 7,
   "metadata": {},
   "outputs": [],
   "source": [
    "# !git stash;git checkout master"
   ]
  },
  {
   "cell_type": "code",
   "execution_count": 8,
   "metadata": {},
   "outputs": [
    {
     "data": {
      "text/plain": [
       "array([-102.36789439])"
      ]
     },
     "execution_count": 8,
     "metadata": {},
     "output_type": "execute_result"
    }
   ],
   "source": [
    "testpars = np.asarray(pdf.config.suggested_init())+0.1\n",
    "testdata = pdf.expected_data(testpars)\n",
    "pdf.logpdf(testpars,testdata)"
   ]
  },
  {
   "cell_type": "code",
   "execution_count": 38,
   "metadata": {},
   "outputs": [],
   "source": [
    "mega_channel = []\n",
    "allmods = []\n",
    "allsamples = []\n",
    "allchannels = []\n",
    "\n",
    "channel_nbins = {}\n",
    "\n",
    "for c in pdf.spec['channels']:\n",
    "    allchannels.append(c['name'])\n",
    "    for s in c['samples']:\n",
    "        channel_nbins[c['name']] = len(s['data'])\n",
    "        allsamples.append(s['name'])\n",
    "        for mod in s['modifiers']:\n",
    "            allmods.append((mod['name'],mod['type']))\n",
    "allmods = list(set(allmods))\n",
    "allsamples = list(set(allsamples))\n",
    "allchannels = list(set(allchannels))"
   ]
  },
  {
   "cell_type": "code",
   "execution_count": 82,
   "metadata": {},
   "outputs": [],
   "source": [
    "helper = {}\n",
    "for c in pdf.spec['channels']:\n",
    "    allchannels.append(c['name'])\n",
    "    for s in c['samples']:\n",
    "        helper.setdefault(c['name'],{})[s['name']] = (c,s)"
   ]
  },
  {
   "cell_type": "code",
   "execution_count": 86,
   "metadata": {},
   "outputs": [
    {
     "name": "stdout",
     "output_type": "stream",
     "text": [
      "ttbar\n",
      "Gtt_2400_5000_800\n",
      "diboson\n",
      "W_jets\n",
      "topEW\n",
      "singletop\n",
      "QCD\n",
      "Z_jets\n"
     ]
    }
   ],
   "source": [
    "msamples_xcheck = {}\n",
    "for s in allsamples:\n",
    "    msample = []\n",
    "    print(s)\n",
    "    for c in allchannels:\n",
    "        nbins =  channel_nbins[c]\n",
    "        val = [0]*nbins\n",
    "        defined = helper.get(c,{}).get(s)\n",
    "        if defined:\n",
    "            cc,ss = defined\n",
    "            val = pdf.expected_sample(cc,ss,testpars)\n",
    "        msample += val\n",
    "    msamples_xcheck[s] = msample\n",
    "#     print('{}: {}'.format(s,msample))"
   ]
  },
  {
   "cell_type": "code",
   "execution_count": 90,
   "metadata": {},
   "outputs": [],
   "source": [
    "allmods = pdf._all_modifications(testpars)"
   ]
  },
  {
   "cell_type": "code",
   "execution_count": 96,
   "metadata": {},
   "outputs": [],
   "source": [
    "allfacs = []\n",
    "for c,s in allmods.items():\n",
    "    for s,sm in s.items():\n",
    "        facs,deltas = sm\n",
    "        allfacs += facs"
   ]
  },
  {
   "cell_type": "code",
   "execution_count": 98,
   "metadata": {},
   "outputs": [
    {
     "data": {
      "text/plain": [
       "{'Gtt_2400_5000_800': array([], dtype=float64),\n",
       " 'QCD': array([11.75024741]),\n",
       " 'W_jets': array([], dtype=float64),\n",
       " 'Z_jets': array([], dtype=float64),\n",
       " 'diboson': array([], dtype=float64),\n",
       " 'singletop': array([], dtype=float64),\n",
       " 'topEW': array([], dtype=float64),\n",
       " 'ttbar': array([], dtype=float64)}"
      ]
     },
     "execution_count": 98,
     "metadata": {},
     "output_type": "execute_result"
    }
   ],
   "source": [
    "msamples_xcheck"
   ]
  },
  {
   "cell_type": "code",
   "execution_count": null,
   "metadata": {},
   "outputs": [],
   "source": []
  }
 ],
 "metadata": {
  "kernelspec": {
   "display_name": "Python 3",
   "language": "python",
   "name": "python3"
  },
  "language_info": {
   "codemirror_mode": {
    "name": "ipython",
    "version": 3
   },
   "file_extension": ".py",
   "mimetype": "text/x-python",
   "name": "python",
   "nbconvert_exporter": "python",
   "pygments_lexer": "ipython3",
   "version": "3.5.1"
  }
 },
 "nbformat": 4,
 "nbformat_minor": 2
}
